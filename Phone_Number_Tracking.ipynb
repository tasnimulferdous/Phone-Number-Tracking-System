{
  "nbformat": 4,
  "nbformat_minor": 0,
  "metadata": {
    "colab": {
      "provenance": []
    },
    "kernelspec": {
      "name": "python3",
      "display_name": "Python 3"
    },
    "language_info": {
      "name": "python"
    }
  },
  "cells": [
    {
      "cell_type": "code",
      "source": [
        "!pip install phonenumbers"
      ],
      "metadata": {
        "colab": {
          "base_uri": "https://localhost:8080/"
        },
        "id": "fBHw1oBhtGxY",
        "outputId": "fca7845f-724f-45f2-bb56-da98d16fc1a1"
      },
      "execution_count": 2,
      "outputs": [
        {
          "output_type": "stream",
          "name": "stdout",
          "text": [
            "Looking in indexes: https://pypi.org/simple, https://us-python.pkg.dev/colab-wheels/public/simple/\n",
            "Collecting phonenumbers\n",
            "  Downloading phonenumbers-8.13.13-py2.py3-none-any.whl (2.6 MB)\n",
            "\u001b[2K     \u001b[90m━━━━━━━━━━━━━━━━━━━━━━━━━━━━━━━━━━━━━━━━\u001b[0m \u001b[32m2.6/2.6 MB\u001b[0m \u001b[31m49.7 MB/s\u001b[0m eta \u001b[36m0:00:00\u001b[0m\n",
            "\u001b[?25hInstalling collected packages: phonenumbers\n",
            "Successfully installed phonenumbers-8.13.13\n"
          ]
        }
      ]
    },
    {
      "cell_type": "code",
      "source": [
        "import phonenumbers\n",
        "from phonenumbers import timezone, geocoder, carrier\n",
        "number= input('Enter your NO. with country code:')\n",
        "phone = phonenumbers.parse(number) #it will help to find the phone details.\n",
        "time = timezone.time_zones_for_number(phone)\n",
        "carr = carrier.name_for_number(phone,'en')\n",
        "regi = geocoder.description_for_number(phone,'en')\n",
        "\n",
        "print(time) #current location\n",
        "print(carr) #sim company name\n",
        "print(regi) #location of registration"
      ],
      "metadata": {
        "colab": {
          "base_uri": "https://localhost:8080/"
        },
        "id": "hhl-KTPltLtN",
        "outputId": "030aba9c-9b78-4f1f-f162-96cc7b9d2a2d"
      },
      "execution_count": 4,
      "outputs": [
        {
          "output_type": "stream",
          "name": "stdout",
          "text": [
            "Enter your NO. with country code:+8801515221289\n",
            "('Asia/Dhaka',)\n",
            "TeleTalk\n",
            "Bangladesh\n"
          ]
        }
      ]
    },
    {
      "cell_type": "code",
      "source": [],
      "metadata": {
        "id": "XHcDQRDxtTlb"
      },
      "execution_count": null,
      "outputs": []
    }
  ]
}